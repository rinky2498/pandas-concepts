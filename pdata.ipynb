{
 "cells": [
  {
   "cell_type": "markdown",
   "metadata": {},
   "source": [
    "# pandas Concepts"
   ]
  },
  {
   "cell_type": "markdown",
   "metadata": {},
   "source": [
    "# checking the version of Pandas"
   ]
  },
  {
   "cell_type": "code",
   "execution_count": 5,
   "metadata": {},
   "outputs": [
    {
     "name": "stdout",
     "output_type": "stream",
     "text": [
      "1.0.5\n"
     ]
    }
   ],
   "source": [
    "import pandas as pd\n",
    "print(pd.__version__) \n"
   ]
  },
  {
   "cell_type": "markdown",
   "metadata": {},
   "source": [
    "# Creating an empty series"
   ]
  },
  {
   "cell_type": "code",
   "execution_count": 11,
   "metadata": {},
   "outputs": [
    {
     "name": "stdout",
     "output_type": "stream",
     "text": [
      "Series([], dtype: float64)\n"
     ]
    },
    {
     "name": "stderr",
     "output_type": "stream",
     "text": [
      "<ipython-input-11-4c20de9e6c48>:2: DeprecationWarning: The default dtype for empty Series will be 'object' instead of 'float64' in a future version. Specify a dtype explicitly to silence this warning.\n",
      "  emp_series = pd.Series()\n"
     ]
    }
   ],
   "source": [
    "import pandas as pd\n",
    "emp_series = pd.Series()\n",
    "print(emp_series)"
   ]
  },
  {
   "cell_type": "markdown",
   "metadata": {},
   "source": [
    "# Creating series with array"
   ]
  },
  {
   "cell_type": "code",
   "execution_count": 13,
   "metadata": {},
   "outputs": [
    {
     "name": "stdout",
     "output_type": "stream",
     "text": [
      "0     P\n",
      "1     r\n",
      "2     o\n",
      "3     g\n",
      "4     r\n",
      "5     a\n",
      "6     m\n",
      "7     m\n",
      "8     i\n",
      "9     n\n",
      "10    g\n",
      "dtype: object\n"
     ]
    }
   ],
   "source": [
    "import pandas as pd  \n",
    "import numpy as np  \n",
    "info = np.array(['P','r','o','g','r','a','m','m','i','n','g'])  \n",
    "a = pd.Series(info)  \n",
    "print(a)   \n"
   ]
  },
  {
   "cell_type": "markdown",
   "metadata": {},
   "source": [
    "# Create series with dictionary"
   ]
  },
  {
   "cell_type": "code",
   "execution_count": 14,
   "metadata": {},
   "outputs": [
    {
     "name": "stdout",
     "output_type": "stream",
     "text": [
      "fruit1     apple\n",
      "fruit2    banana\n",
      "fruit3    grapes\n",
      "dtype: object\n"
     ]
    }
   ],
   "source": [
    "import pandas as pd\n",
    "\n",
    "fruits = {\"fruit1\": 'apple', \"fruit2\": 'banana', \"fruit3\": 'grapes'}\n",
    "\n",
    "myseries = pd.Series(fruits)\n",
    "\n",
    "print(myseries)"
   ]
  },
  {
   "cell_type": "markdown",
   "metadata": {},
   "source": [
    "# Creating series with list"
   ]
  },
  {
   "cell_type": "code",
   "execution_count": 16,
   "metadata": {},
   "outputs": [
    {
     "name": "stdout",
     "output_type": "stream",
     "text": [
      "0    10\n",
      "1    20\n",
      "2    30\n",
      "dtype: int64\n"
     ]
    }
   ],
   "source": [
    "import pandas as pd\n",
    "\n",
    "a = [10, 20, 30]\n",
    "\n",
    "myseries = pd.Series(a)\n",
    "\n",
    "print(myseries)"
   ]
  },
  {
   "cell_type": "markdown",
   "metadata": {},
   "source": [
    "# Accessing series data"
   ]
  },
  {
   "cell_type": "code",
   "execution_count": 20,
   "metadata": {},
   "outputs": [
    {
     "name": "stdout",
     "output_type": "stream",
     "text": [
      "20\n"
     ]
    }
   ],
   "source": [
    "import pandas as pd\n",
    "\n",
    "a = [10, 20, 30]\n",
    "\n",
    "myseries = pd.Series(a)\n",
    "\n",
    "print(myseries[1])\n",
    "\n"
   ]
  },
  {
   "cell_type": "markdown",
   "metadata": {},
   "source": [
    "# Creating own labels"
   ]
  },
  {
   "cell_type": "code",
   "execution_count": 25,
   "metadata": {},
   "outputs": [
    {
     "name": "stdout",
     "output_type": "stream",
     "text": [
      "rahul     10\n",
      "ajay      20\n",
      "sehnaz    30\n",
      "dtype: int64\n",
      "(3,)\n"
     ]
    }
   ],
   "source": [
    "import pandas as pd\n",
    "\n",
    "age = [11,17, 20]\n",
    "\n",
    "student = pd.Series(a, index = [\"rahul\", \"ajay\", \"sehnaz\"])\n",
    "\n",
    "print(student)\n",
    "print(student.shape)          #shape gives the total number of elements in the series"
   ]
  },
  {
   "cell_type": "markdown",
   "metadata": {},
   "source": [
    "# creating dataframe using a list"
   ]
  },
  {
   "cell_type": "code",
   "execution_count": 26,
   "metadata": {},
   "outputs": [
    {
     "name": "stdout",
     "output_type": "stream",
     "text": [
      "    0\n",
      "0  10\n",
      "1  20\n",
      "2  30\n"
     ]
    }
   ],
   "source": [
    "import pandas as pd\n",
    "\n",
    "a = [10, 20, 30]\n",
    "\n",
    "myseries = pd.DataFrame(a)\n",
    "\n",
    "print(myseries)"
   ]
  },
  {
   "cell_type": "markdown",
   "metadata": {},
   "source": [
    "# Creating datframes fron DIctionary"
   ]
  },
  {
   "cell_type": "code",
   "execution_count": 27,
   "metadata": {},
   "outputs": [
    {
     "name": "stdout",
     "output_type": "stream",
     "text": [
      "    ID Department\n",
      "0  101        MCA\n",
      "1  102     B.Tech\n",
      "2  103     M.Tech\n"
     ]
    }
   ],
   "source": [
    "import pandas as pd  \n",
    "\n",
    "info = {'ID' :[101, 102, 103],'Department' :['MCA','B.Tech','M.Tech',]}  \n",
    "dframe = pd.DataFrame(info)  \n",
    "print (dframe)  "
   ]
  },
  {
   "cell_type": "markdown",
   "metadata": {},
   "source": [
    "# append() function\n"
   ]
  },
  {
   "cell_type": "code",
   "execution_count": 84,
   "metadata": {},
   "outputs": [
    {
     "name": "stdout",
     "output_type": "stream",
     "text": [
      "    x   y\n",
      "0  25  47\n",
      "1  15  24\n",
      "2  12  17\n",
      "3  19  29\n",
      "4  25  47\n",
      "5  15  24\n",
      "6  12  17\n"
     ]
    }
   ],
   "source": [
    "import pandas as pd   \n",
    "info1 = pd.DataFrame({\"x\":[25,15,12,19],   \n",
    "                    \"y\":[47, 24, 17, 29]})  # Create first Dataframe using dictionary   \n",
    "        \n",
    "  \n",
    "info2 = pd.DataFrame({\"x\":[25, 15, 12],   \n",
    "                    \"y\":[47, 24, 17]}) # Create second Dataframe using dictionary    \n",
    "\n",
    "result = info1.append(info2, ignore_index = True)   \n",
    "print(result)"
   ]
  },
  {
   "cell_type": "code",
   "execution_count": null,
   "metadata": {},
   "outputs": [],
   "source": []
  },
  {
   "cell_type": "markdown",
   "metadata": {},
   "source": [
    "# reading CSV files"
   ]
  },
  {
   "cell_type": "code",
   "execution_count": 56,
   "metadata": {},
   "outputs": [
    {
     "name": "stdout",
     "output_type": "stream",
     "text": [
      "     Id      Ename  Age    Salary\n",
      "0   101     Ashish   23   25000.0\n",
      "1   102      Pooja   23   23000.0\n",
      "2   103      Rahul   23   23000.0\n",
      "3   104       Ekta   23   23000.0\n",
      "4   105    Anshika   23   23000.0\n",
      "5   106       Neha   23   23000.0\n",
      "6   107     Akshay   23  100000.0\n",
      "7   108      Vipul   24   20000.0\n",
      "8   109     Nikita   25   28000.0\n",
      "9   110      Rinky   25   30000.0\n",
      "10  111     Shikha   22   27000.0\n",
      "11  112       Annu   27   27000.0\n",
      "12  113     Shilpa   23   27000.0\n",
      "13  114       Miku   26   27000.0\n",
      "14  115      Nisha   29   27000.0\n",
      "15  116       John  330   27000.0\n",
      "16  117  Siddharth   35   27000.0\n",
      "17  118      Imran   40   28000.0\n",
      "18  119       Amit   24   29000.0\n",
      "19  200      Nupur   22       NaN\n"
     ]
    }
   ],
   "source": [
    "import pandas as pd\n",
    "e_data = pd.read_csv(r'C:\\Users\\home\\Desktop\\pandas\\employees.csv')\n",
    "print(e_data)\n"
   ]
  },
  {
   "cell_type": "markdown",
   "metadata": {},
   "source": [
    "# Viewing the data"
   ]
  },
  {
   "cell_type": "code",
   "execution_count": 65,
   "metadata": {},
   "outputs": [
    {
     "name": "stdout",
     "output_type": "stream",
     "text": [
      "     Id      Ename  Age    Salary\n",
      "0   101     Ashish   23   25000.0\n",
      "1   102      Pooja   23   23000.0\n",
      "2   103      Rahul   23   23000.0\n",
      "3   104       Ekta   23   23000.0\n",
      "4   105    Anshika   23   23000.0\n",
      "5   106       Neha   23   23000.0\n",
      "6   107     Akshay   23  100000.0\n",
      "7   108      Vipul   24   20000.0\n",
      "8   109     Nikita   25   28000.0\n",
      "9   110      Rinky   25   30000.0\n",
      "10  111     Shikha   22   27000.0\n",
      "11  112       Annu   27   27000.0\n",
      "12  113     Shilpa   23   27000.0\n",
      "13  114       Miku   26   27000.0\n",
      "14  115      Nisha   29   27000.0\n",
      "15  116       John  330   27000.0\n",
      "16  117  Siddharth   35   27000.0\n",
      "17  118      Imran   40   28000.0\n",
      "18  119       Amit   24   29000.0\n",
      "19  200      Nupur   22       NaN\n"
     ]
    }
   ],
   "source": [
    "import pandas as pd\n",
    "emp_data = pd.read_csv(r'C:\\Users\\home\\Desktop\\pandas\\employees.csv')\n",
    "print(emp_data.to_string())                     ##to_string() method will print the entire data in the file\n",
    "\n"
   ]
  },
  {
   "cell_type": "markdown",
   "metadata": {},
   "source": [
    "# head() method"
   ]
  },
  {
   "cell_type": "code",
   "execution_count": 68,
   "metadata": {},
   "outputs": [
    {
     "name": "stdout",
     "output_type": "stream",
     "text": [
      "    Id    Ename  Age   Salary\n",
      "0  101   Ashish   23  25000.0\n",
      "1  102    Pooja   23  23000.0\n",
      "2  103    Rahul   23  23000.0\n",
      "3  104     Ekta   23  23000.0\n",
      "4  105  Anshika   23  23000.0\n",
      "    Id    Ename  Age    Salary\n",
      "0  101   Ashish   23   25000.0\n",
      "1  102    Pooja   23   23000.0\n",
      "2  103    Rahul   23   23000.0\n",
      "3  104     Ekta   23   23000.0\n",
      "4  105  Anshika   23   23000.0\n",
      "5  106     Neha   23   23000.0\n",
      "6  107   Akshay   23  100000.0\n",
      "7  108    Vipul   24   20000.0\n"
     ]
    }
   ],
   "source": [
    "import pandas as pd\n",
    "emp_data = pd.read_csv(r'C:\\Users\\home\\Desktop\\pandas\\employees.csv')\n",
    "print(emp_data.head())           ##the head() method return the top 5 rows\n",
    "\n",
    "print(emp_data.head(8))          ##if we pass any number as a parameter,then this will return the specified number of top rows\n",
    "\n",
    "\n"
   ]
  },
  {
   "cell_type": "markdown",
   "metadata": {},
   "source": [
    "# tail() method"
   ]
  },
  {
   "cell_type": "code",
   "execution_count": 69,
   "metadata": {},
   "outputs": [
    {
     "name": "stdout",
     "output_type": "stream",
     "text": [
      "     Id      Ename  Age   Salary\n",
      "15  116       John  330  27000.0\n",
      "16  117  Siddharth   35  27000.0\n",
      "17  118      Imran   40  28000.0\n",
      "18  119       Amit   24  29000.0\n",
      "19  200      Nupur   22      NaN\n",
      "     Id      Ename  Age   Salary\n",
      "13  114       Miku   26  27000.0\n",
      "14  115      Nisha   29  27000.0\n",
      "15  116       John  330  27000.0\n",
      "16  117  Siddharth   35  27000.0\n",
      "17  118      Imran   40  28000.0\n",
      "18  119       Amit   24  29000.0\n",
      "19  200      Nupur   22      NaN\n"
     ]
    }
   ],
   "source": [
    "import pandas as pd\n",
    "emp_data = pd.read_csv(r'C:\\Users\\home\\Desktop\\pandas\\employees.csv')\n",
    "print(emp_data.tail())              ##the tail() method return the last 5 rows\n",
    "\n",
    "print(emp_data.tail(7))             ##if we pass the any number as a parameter then it will return the specified number of last rows"
   ]
  },
  {
   "cell_type": "markdown",
   "metadata": {},
   "source": [
    "# info() method"
   ]
  },
  {
   "cell_type": "code",
   "execution_count": 71,
   "metadata": {},
   "outputs": [
    {
     "name": "stdout",
     "output_type": "stream",
     "text": [
      "<class 'pandas.core.frame.DataFrame'>\n",
      "RangeIndex: 20 entries, 0 to 19\n",
      "Data columns (total 4 columns):\n",
      " #   Column  Non-Null Count  Dtype  \n",
      "---  ------  --------------  -----  \n",
      " 0   Id      20 non-null     int64  \n",
      " 1   Ename   20 non-null     object \n",
      " 2   Age     20 non-null     int64  \n",
      " 3   Salary  19 non-null     float64\n",
      "dtypes: float64(1), int64(2), object(1)\n",
      "memory usage: 768.0+ bytes\n",
      "None\n"
     ]
    }
   ],
   "source": [
    "import pandas as pd\n",
    "emp_data = pd.read_csv(r'C:\\Users\\home\\Desktop\\pandas\\employees.csv')\n",
    "print(emp_data.info()) "
   ]
  },
  {
   "cell_type": "markdown",
   "metadata": {},
   "source": [
    "# data operations in pandas"
   ]
  },
  {
   "cell_type": "markdown",
   "metadata": {},
   "source": [
    "# removing empty cells"
   ]
  },
  {
   "cell_type": "code",
   "execution_count": 85,
   "metadata": {},
   "outputs": [
    {
     "name": "stdout",
     "output_type": "stream",
     "text": [
      "     Id      Ename    Age    Salary        DOB\n",
      "0   101     Ashish   23.0   25000.0   2/2/1997\n",
      "1   102      Pooja   23.0   23000.0   3/2/1997\n",
      "2   103      Rahul   23.0   23000.0   4/2/1997\n",
      "3   104       Ekta   23.0   23000.0   5/2/1997\n",
      "4   105    Anshika   23.0   23000.0   6/2/1997\n",
      "5   106       Neha   23.0   23000.0   7/2/1997\n",
      "6   107     Akshay   23.0  100000.0  1997/2/30\n",
      "7   108      Vipul   24.0   20000.0   9/2/1997\n",
      "9   110      Rinky   25.0   30000.0  11/2/1997\n",
      "10  111     Shikha   22.0   27000.0  12/2/1997\n",
      "12  113     Shilpa   23.0   27000.0  14/2/1997\n",
      "13  114       Miku   26.0   27000.0  15/2/1997\n",
      "14  115      Nisha   29.0   27000.0  16/2/1997\n",
      "15  116       John  330.0   27000.0  17/2/1997\n",
      "16  117  Siddharth   35.0   27000.0  18/2/1997\n",
      "17  118      Imran   40.0   28000.0  19/2/1997\n",
      "18  119       Amit   24.0   29000.0  20/2/1997\n",
      "19  200      Nupur   22.0   25000.0  21/2/1997\n",
      "20  201      Nupur   22.0   25000.0  22/2/1997\n"
     ]
    }
   ],
   "source": [
    "import pandas as pd\n",
    "\n",
    "dataframe = pd.read_csv(r'C:\\Users\\home\\Desktop\\pandas\\e_data.csv')\n",
    "\n",
    "new_df = dataframe.dropna()\n",
    "\n",
    "print(new_df.to_string())"
   ]
  },
  {
   "cell_type": "markdown",
   "metadata": {},
   "source": [
    "# replace empty cells with a value "
   ]
  },
  {
   "cell_type": "code",
   "execution_count": 92,
   "metadata": {},
   "outputs": [
    {
     "name": "stdout",
     "output_type": "stream",
     "text": [
      "     Id      Ename    Age    Salary        DOB\n",
      "0   101     Ashish   23.0   25000.0   2/2/1997\n",
      "1   102      Pooja   23.0   23000.0   3/2/1997\n",
      "2   103      Rahul   23.0   23000.0   4/2/1997\n",
      "3   104       Ekta   23.0   23000.0   5/2/1997\n",
      "4   105    Anshika   23.0   23000.0   6/2/1997\n",
      "5   106       Neha   23.0   23000.0   7/2/1997\n",
      "6   107     Akshay   23.0  100000.0  1997/2/30\n",
      "7   108      Vipul   24.0   20000.0   9/2/1997\n",
      "8   109     Nikita   24.0   28000.0  10/2/1997\n",
      "9   110      Rinky   25.0   30000.0  11/2/1997\n",
      "10  111     Shikha   22.0   27000.0  12/2/1997\n",
      "11  112       Annu   27.0   24000.0  13/2/1997\n",
      "12  113     Shilpa   23.0   27000.0  14/2/1997\n",
      "13  114       Miku   26.0   27000.0  15/2/1997\n",
      "14  115      Nisha   29.0   27000.0  16/2/1997\n",
      "15  116       John  330.0   27000.0  17/2/1997\n",
      "16  117  Siddharth   35.0   27000.0  18/2/1997\n",
      "17  118      Imran   40.0   28000.0  19/2/1997\n",
      "18  119       Amit   24.0   29000.0  20/2/1997\n",
      "19  200      Nupur   22.0   25000.0  21/2/1997\n",
      "20  201      Nupur   22.0   25000.0  22/2/1997\n"
     ]
    }
   ],
   "source": [
    "import pandas as pd\n",
    "\n",
    "df = pd.read_csv(r'C:\\Users\\home\\Desktop\\pandas\\e_data.csv')\n",
    "df[\"Salary\"].fillna(24000, inplace = True)    ##in this only specified column is fill with specified value.\n",
    "\n",
    "df.fillna(24, inplace = True)                ##in this all empty cells are filled with given value.\n",
    "print(df.to_string())"
   ]
  },
  {
   "cell_type": "markdown",
   "metadata": {},
   "source": [
    "# mean method to fill the empty cells"
   ]
  },
  {
   "cell_type": "code",
   "execution_count": 93,
   "metadata": {},
   "outputs": [
    {
     "name": "stdout",
     "output_type": "stream",
     "text": [
      "     Id      Ename    Age    Salary        DOB\n",
      "0   101     Ashish   23.0   25000.0   2/2/1997\n",
      "1   102      Pooja   23.0   23000.0   3/2/1997\n",
      "2   103      Rahul   23.0   23000.0   4/2/1997\n",
      "3   104       Ekta   23.0   23000.0   5/2/1997\n",
      "4   105    Anshika   23.0   23000.0   6/2/1997\n",
      "5   106       Neha   23.0   23000.0   7/2/1997\n",
      "6   107     Akshay   23.0  100000.0  1997/2/30\n",
      "7   108      Vipul   24.0   20000.0   9/2/1997\n",
      "8   109     Nikita    NaN   28000.0  10/2/1997\n",
      "9   110      Rinky   25.0   30000.0  11/2/1997\n",
      "10  111     Shikha   22.0   27000.0  12/2/1997\n",
      "11  112       Annu   27.0   29350.0  13/2/1997\n",
      "12  113     Shilpa   23.0   27000.0  14/2/1997\n",
      "13  114       Miku   26.0   27000.0  15/2/1997\n",
      "14  115      Nisha   29.0   27000.0  16/2/1997\n",
      "15  116       John  330.0   27000.0  17/2/1997\n",
      "16  117  Siddharth   35.0   27000.0  18/2/1997\n",
      "17  118      Imran   40.0   28000.0  19/2/1997\n",
      "18  119       Amit   24.0   29000.0  20/2/1997\n",
      "19  200      Nupur   22.0   25000.0  21/2/1997\n",
      "20  201      Nupur   22.0   25000.0  22/2/1997\n"
     ]
    }
   ],
   "source": [
    "import pandas as pd\n",
    "\n",
    "df = pd.read_csv(r'C:\\Users\\home\\Desktop\\pandas\\e_data.csv')\n",
    "a = df[\"Salary\"].mean()\n",
    "\n",
    "df[\"Salary\"].fillna(a, inplace = True)                ##the empty cells are filled with mean of salary column. \n",
    "print(df.to_string())"
   ]
  },
  {
   "cell_type": "markdown",
   "metadata": {},
   "source": [
    "# cleaning the wrong format"
   ]
  },
  {
   "cell_type": "code",
   "execution_count": 95,
   "metadata": {},
   "outputs": [
    {
     "name": "stdout",
     "output_type": "stream",
     "text": [
      "     Id      Ename    Age    Salary        DOB\n",
      "0   101     Ashish   23.0   25000.0 1997-02-02\n",
      "1   102      Pooja   23.0   23000.0 1997-03-02\n",
      "2   103      Rahul   23.0   23000.0 1997-04-02\n",
      "3   104       Ekta   23.0   23000.0 1997-05-02\n",
      "4   105    Anshika   23.0   23000.0 1997-06-02\n",
      "5   106       Neha   23.0   23000.0 1997-07-02\n",
      "6   107     Akshay   23.0  100000.0 1997-02-10\n",
      "7   108      Vipul   24.0   20000.0 1997-09-02\n",
      "8   109     Nikita    NaN   28000.0 1997-10-02\n",
      "9   110      Rinky   25.0   30000.0 1997-11-02\n",
      "10  111     Shikha   22.0   27000.0 1997-12-02\n",
      "11  112       Annu   27.0       NaN 1997-02-13\n",
      "12  113     Shilpa   23.0   27000.0 1997-02-14\n",
      "13  114       Miku   26.0   27000.0 1997-02-15\n",
      "14  115      Nisha   29.0   27000.0 1997-02-16\n",
      "15  116       John  330.0   27000.0 1997-02-17\n",
      "16  117  Siddharth   35.0   27000.0 1997-02-18\n",
      "17  118      Imran   40.0   28000.0 1997-02-19\n",
      "18  119       Amit   24.0   29000.0 1997-02-20\n",
      "19  200      Nupur   22.0   25000.0 1997-02-21\n",
      "20  201      Nupur   22.0   25000.0 1997-02-22\n"
     ]
    }
   ],
   "source": [
    "import pandas as pd\n",
    "\n",
    "df = pd.read_csv(r'C:\\Users\\home\\Desktop\\pandas\\employee.csv')\n",
    "\n",
    "df['DOB'] = pd.to_datetime(df['DOB'])\n",
    "\n",
    "print(df.to_string())"
   ]
  },
  {
   "cell_type": "markdown",
   "metadata": {},
   "source": [
    "# cleaning wrong Data"
   ]
  },
  {
   "cell_type": "code",
   "execution_count": 98,
   "metadata": {},
   "outputs": [
    {
     "name": "stdout",
     "output_type": "stream",
     "text": [
      "     Id      Ename    Age   Salary        DOB\n",
      "0   101     Ashish   23.0  25000.0   2/2/1997\n",
      "1   102      Pooja   23.0  23000.0   3/2/1997\n",
      "2   103      Rahul   23.0  23000.0   4/2/1997\n",
      "3   104       Ekta   23.0  23000.0   5/2/1997\n",
      "4   105    Anshika   23.0  23000.0   6/2/1997\n",
      "5   106       Neha   23.0  23000.0   7/2/1997\n",
      "6   107     Akshay   23.0  28000.0  1997/2/10\n",
      "7   108      Vipul   24.0  20000.0   9/2/1997\n",
      "8   109     Nikita    NaN  28000.0  10/2/1997\n",
      "9   110      Rinky   25.0  30000.0  11/2/1997\n",
      "10  111     Shikha   22.0  27000.0  12/2/1997\n",
      "11  112       Annu   27.0      NaN  13/2/1997\n",
      "12  113     Shilpa   23.0  27000.0  14/2/1997\n",
      "13  114       Miku   26.0  27000.0  15/2/1997\n",
      "14  115      Nisha   29.0  27000.0  16/2/1997\n",
      "15  116       John  330.0  27000.0  17/2/1997\n",
      "16  117  Siddharth   35.0  27000.0  18/2/1997\n",
      "17  118      Imran   40.0  28000.0  19/2/1997\n",
      "18  119       Amit   24.0  29000.0  20/2/1997\n",
      "19  200      Nupur   22.0  25000.0  21/2/1997\n",
      "20  201      Nupur   22.0  25000.0  22/2/1997\n"
     ]
    }
   ],
   "source": [
    "import pandas as pd\n",
    "\n",
    "df = pd.read_csv(r'C:\\Users\\home\\Desktop\\pandas\\employee.csv')\n",
    "     \n",
    "df.loc[6, 'Salary'] = 28000     ##Replacing values.\n",
    "\n",
    "print(df.to_string())"
   ]
  },
  {
   "cell_type": "markdown",
   "metadata": {},
   "source": [
    "# removing Duplicate values"
   ]
  },
  {
   "cell_type": "code",
   "execution_count": 115,
   "metadata": {},
   "outputs": [
    {
     "name": "stdout",
     "output_type": "stream",
     "text": [
      "0     False\n",
      "1     False\n",
      "2     False\n",
      "3     False\n",
      "4     False\n",
      "5     False\n",
      "6     False\n",
      "7     False\n",
      "8     False\n",
      "9     False\n",
      "10    False\n",
      "11    False\n",
      "12    False\n",
      "13    False\n",
      "14    False\n",
      "15    False\n",
      "16    False\n",
      "17    False\n",
      "18    False\n",
      "19    False\n",
      "20    False\n",
      "21     True\n",
      "22     True\n",
      "dtype: bool\n",
      "     Id      Ename    Age    Salary        DOB\n",
      "0   101     Ashish   23.0   25000.0   2/2/1997\n",
      "1   102      Pooja   23.0   23000.0   3/2/1997\n",
      "2   103      Rahul   23.0   23000.0   4/2/1997\n",
      "3   104       Ekta   23.0   23000.0   5/2/1997\n",
      "4   105    Anshika   23.0   23000.0   6/2/1997\n",
      "5   106       Neha   23.0   23000.0   7/2/1997\n",
      "6   107     Akshay   23.0  100000.0  1997/2/10\n",
      "7   108      Vipul   24.0   20000.0   9/2/1997\n",
      "8   109     Nikita    NaN   28000.0  10/2/1997\n",
      "9   110      Rinky   25.0   30000.0  11/2/1997\n",
      "10  111     Shikha   22.0   27000.0  12/2/1997\n",
      "11  112       Annu   27.0       NaN  13/2/1997\n",
      "12  113     Shilpa   23.0   27000.0  14/2/1997\n",
      "13  114       Miku   26.0   27000.0  15/2/1997\n",
      "14  115      Nisha   29.0   27000.0  16/2/1997\n",
      "15  116       John  330.0   27000.0  17/2/1997\n",
      "16  117  Siddharth   35.0   27000.0  18/2/1997\n",
      "17  118      Imran   40.0   28000.0  19/2/1997\n",
      "18  119       Amit   24.0   29000.0  20/2/1997\n",
      "19  200      Nupur   22.0   25000.0  21/2/1997\n",
      "20  200      Nupur   22.0   25000.0  22/2/1997\n"
     ]
    }
   ],
   "source": [
    "import pandas as pd\n",
    "\n",
    "df = pd.read_csv(r'C:\\Users\\home\\Desktop\\pandas\\emp_data.csv')\n",
    "print(df.duplicated())      ##return true if there is any duplicate value present\n",
    "a = df.drop_duplicates()     #remove duplicate values from file. \n",
    "print(a)"
   ]
  },
  {
   "cell_type": "markdown",
   "metadata": {},
   "source": [
    "# correlation method\n"
   ]
  },
  {
   "cell_type": "code",
   "execution_count": 116,
   "metadata": {},
   "outputs": [
    {
     "name": "stdout",
     "output_type": "stream",
     "text": [
      "              Id       Age    Salary\n",
      "Id      1.000000 -0.029661 -0.088278\n",
      "Age    -0.029661  1.000000 -0.034246\n",
      "Salary -0.088278 -0.034246  1.000000\n"
     ]
    }
   ],
   "source": [
    "import pandas as pd\n",
    "\n",
    "df = pd.read_csv(r'C:\\Users\\home\\Desktop\\pandas\\emp_data.csv')\n",
    "print(df.corr())"
   ]
  },
  {
   "cell_type": "code",
   "execution_count": null,
   "metadata": {},
   "outputs": [],
   "source": []
  }
 ],
 "metadata": {
  "kernelspec": {
   "display_name": "Python 3",
   "language": "python",
   "name": "python3"
  },
  "language_info": {
   "codemirror_mode": {
    "name": "ipython",
    "version": 3
   },
   "file_extension": ".py",
   "mimetype": "text/x-python",
   "name": "python",
   "nbconvert_exporter": "python",
   "pygments_lexer": "ipython3",
   "version": "3.8.3"
  }
 },
 "nbformat": 4,
 "nbformat_minor": 4
}
